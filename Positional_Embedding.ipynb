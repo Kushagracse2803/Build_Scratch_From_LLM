{
 "cells": [
  {
   "cell_type": "markdown",
   "id": "38b480aa-19c4-422f-a131-2fe81f444026",
   "metadata": {},
   "source": [
    "# POSITIONAL EMBEDDINGS\n"
   ]
  },
  {
   "cell_type": "code",
   "execution_count": null,
   "id": "c467612f-c460-4a67-b03f-533f9ca58a85",
   "metadata": {},
   "outputs": [],
   "source": [
    "#THIS IS SMALLER THAN"
   ]
  }
 ],
 "metadata": {
  "kernelspec": {
   "display_name": "Python 3 (ipykernel)",
   "language": "python",
   "name": "python3"
  },
  "language_info": {
   "codemirror_mode": {
    "name": "ipython",
    "version": 3
   },
   "file_extension": ".py",
   "mimetype": "text/x-python",
   "name": "python",
   "nbconvert_exporter": "python",
   "pygments_lexer": "ipython3",
   "version": "3.10.5"
  },
  "widgets": {
   "application/vnd.jupyter.widget-state+json": {
    "state": {},
    "version_major": 2,
    "version_minor": 0
   }
  }
 },
 "nbformat": 4,
 "nbformat_minor": 5
}
