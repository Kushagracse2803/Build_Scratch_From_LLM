{
 "cells": [
  {
   "cell_type": "markdown",
   "id": "98584378-e00f-4a34-b582-460d0a359ce6",
   "metadata": {},
   "source": [
    "# Reading in a short story as text sample into Python"
   ]
  },
  {
   "cell_type": "markdown",
   "id": "380c9e8f-262b-4497-a443-a42a91ea5566",
   "metadata": {},
   "source": [
    "# Step 1: Creating Tokens"
   ]
  },
  {
   "cell_type": "code",
   "execution_count": 1,
   "id": "188cc3e1-7c73-4d7c-b366-cc8c10c62a51",
   "metadata": {},
   "outputs": [
    {
     "name": "stdout",
     "output_type": "stream",
     "text": [
      "Total number of character 20479\n",
      "I HAD always thought Jack Gisburn rather a cheap genius--though a good fellow enough--so it was no \n"
     ]
    }
   ],
   "source": [
    "with open(\"the-verdict.txt\",\"r\",encoding=\"utf-8\") as f:\n",
    "    raw_text=f.read()\n",
    "print(\"Total number of character\",len(raw_text))\n",
    "print(raw_text[:99])"
   ]
  },
  {
   "cell_type": "markdown",
   "id": "36aca4ef-2c55-42eb-b4af-02dae9c4b9e7",
   "metadata": {},
   "source": [
    "This Python code reads a text file named the-verdict.txt and gives you:\n",
    "\n",
    "The total number of characters in the file.\n",
    "\n",
    "The first 99 characters from the file's content.\n",
    "\n"
   ]
  },
  {
   "cell_type": "raw",
   "id": "40e7c5b0-0429-45d6-8c29-a5b2d71b4060",
   "metadata": {},
   "source": [
    "✅ re Operator in Python\n",
    "The re module in Python stands for Regular Expression — it provides tools to work with patterns in text, such as searching, matching, or extracting data.\n",
    "\n",
    "🔧 Commonly Used re Functions:\n",
    "Function\tDescription\n",
    "re.search()\tSearches a pattern in a string (returns first match)\n",
    "re.match()\tChecks if the pattern matches at the beginning\n",
    "re.findall()\tReturns all matches of the pattern as a list\n",
    "re.sub()\tSubstitutes matched pattern with a replacement\n",
    "re.split()\tSplits string using a regex pattern\n",
    "re.compile()\tCompiles a pattern for reuse\n",
    "\n",
    "🧠 Basic Regex Syntax:\n",
    "Pattern\tMeaning\tExample Match\n",
    ".\tAny character except newline\ta.c → matches abc\n",
    "\\d\tDigit (0-9)\t\\d\\d → 23\n",
    "\\w\tWord character (a-z, A-Z, 0-9, _)\t\\w+ → Hello123\n",
    "\\s\tWhitespace\t\\s → space/tab\n",
    "^\tStart of string\t^The matches “The” at beginning\n",
    "$\tEnd of string\tend$ matches line ending in “end”\n",
    "[abc]\tMatches a, b, or c\t[aeiou] → vowels\n",
    "[^abc]\tNot a, b, or c\t\n",
    "*\t0 or more times\ta* → aaa or \"\"\n",
    "+\t1 or more times\ta+ → a, aa\n",
    "?\t0 or 1 time\ta? → optional a\n",
    "{m,n}\tBetween m and n repetitions\ta{2,4} → aa, aaa, aaaa\n",
    "`\t`\tOR operator\n",
    "\n"
   ]
  },
  {
   "cell_type": "code",
   "execution_count": 2,
   "id": "d20a4799-cd57-4ef6-bb83-21892620d750",
   "metadata": {},
   "outputs": [
    {
     "name": "stdout",
     "output_type": "stream",
     "text": [
      "['Hello,', ' ', 'world.', ' ', 'This,is', ' ', 'a', ' ', 'test']\n"
     ]
    }
   ],
   "source": [
    "import re \n",
    "text=\"Hello, world. This,is a test\"\n",
    "result= re.split(r'(\\s)',text)\n",
    "print(result)"
   ]
  },
  {
   "cell_type": "markdown",
   "id": "6d64ec63-3dcf-4533-aad5-d9c3ee59e6a0",
   "metadata": {},
   "source": [
    "🔍 What's Happening?\n",
    "\n",
    "re.split(): Splits a string wherever the pattern matches.\n",
    "\n",
    "\n",
    "r'(\\s)':\n",
    "\n",
    "\n",
    "\\s → Matches any whitespace (space, tab, newline).\n",
    "\n",
    "\n",
    "The pattern is inside parentheses (), which creates a capturing group.\n",
    "\n",
    "\n",
    "📌 When you use a capturing group, the delimiter (matched part) is also included in the result list.\n",
    "\n",
    "\n",
    "🔧 So re.split(r'(\\s)', text) will:\n",
    "\n",
    "Split text at each space.\n",
    "\n",
    "\n",
    "Include the space itself in the result list.\n",
    "\n",
    "🔎 Output:\n",
    "\n",
    "['Hello,', ' ', 'world.', ' ', 'This,is', ' ', 'a', ' ', 'test']\n",
    "\n",
    "\n",
    "\n"
   ]
  },
  {
   "cell_type": "markdown",
   "id": "8486c828-aa99-458b-a6d5-574a0976dd01",
   "metadata": {},
   "source": [
    "#### SEPAARATE COMMA AS WELL"
   ]
  },
  {
   "cell_type": "code",
   "execution_count": 3,
   "id": "9584ce74-2325-40d5-b480-14778913533c",
   "metadata": {},
   "outputs": [
    {
     "name": "stdout",
     "output_type": "stream",
     "text": [
      "['Hello', ',', '', ' ', 'world', '.', '', ' ', 'This', ',', 'is', ' ', 'a', ' ', 'test']\n"
     ]
    }
   ],
   "source": [
    "result=re.split(r'([,.]|\\s)',text)\n",
    "print(result)"
   ]
  },
  {
   "cell_type": "markdown",
   "id": "5b63dfa6-2b11-40ec-a647-a0ca7567d9f2",
   "metadata": {},
   "source": [
    "#### our list include still include whilespace"
   ]
  },
  {
   "cell_type": "code",
   "execution_count": 4,
   "id": "20f9bfbb-56b1-4f5d-b9cd-63588a7ca2ec",
   "metadata": {},
   "outputs": [
    {
     "name": "stdout",
     "output_type": "stream",
     "text": [
      "['Hello', ',', 'world', '.', 'This', ',', 'is', 'a', 'test']\n"
     ]
    }
   ],
   "source": [
    "result=[item for item in result if item.strip()]\n",
    "print(result)"
   ]
  },
  {
   "cell_type": "raw",
   "id": "3456f5b8-846e-4cf0-9bd1-7145899e4f87",
   "metadata": {},
   "source": [
    "## Removing white space or not\n",
    "✅ Should You Remove Whitespace in Text Processing?\n",
    "Whether or not to remove whitespace depends on your task in NLP or text processing. Here's a balanced look at the advantages and disadvantages:\n",
    "\n",
    "✅ Advantages of Removing Whitespace\n",
    "Data Cleaning:\n",
    "\n",
    "Removes unwanted leading/trailing spaces, tabs, and extra newlines.\n",
    "\n",
    "Prevents errors during tokenization and matching.\n",
    "\n",
    "python\n",
    "Copy\n",
    "Edit\n",
    "text = \"  Hello world  \\n\"\n",
    "clean_text = text.strip()\n",
    "Consistent Processing:\n",
    "\n",
    "Reduces noise in data.\n",
    "\n",
    "Especially useful in keyword matching or when comparing strings.\n",
    "\n",
    "Improves Storage & Speed (slightly):\n",
    "\n",
    "In very large corpora, removing extra whitespace can reduce file size.\n",
    "\n",
    "❌ Disadvantages of Removing Whitespace\n",
    "Loss of Structure:\n",
    "\n",
    "Whitespace separates words and sentences.\n",
    "\n",
    "Removing all whitespace can make the text unusable for NLP.\n",
    "\n",
    "\"Hello world\" → \"Helloworld\" ❌\n",
    "Hurts Tokenization:\n",
    "\n",
    "Most NLP tools rely on whitespace to split text into tokens.\n",
    "\n",
    "Removing it completely can break sentence or word boundaries.\n",
    "\n",
    "Inaccurate Analysis:\n",
    "\n",
    "In tasks like text generation, translation, or summarization, spacing is important to retain grammatical structure.\n",
    "\n"
   ]
  },
  {
   "cell_type": "code",
   "execution_count": 7,
   "id": "0338ed45-1997-415d-bcc0-1ce9dac976ef",
   "metadata": {},
   "outputs": [
    {
     "name": "stdout",
     "output_type": "stream",
     "text": [
      "['Hello', ',', 'world', '.', 'Is', 'this', '--', 'a', 'test', '?']\n"
     ]
    }
   ],
   "source": [
    "import re\n",
    "\n",
    "text = \"Hello, world. Is this-- a test?\"\n",
    "\n",
    "result = re.split(r'([,.:;?_!()\\']|--|\\s)', text)\n",
    "result = [item.strip() for item in result if item.strip()]\n",
    "print(result)\n"
   ]
  },
  {
   "cell_type": "code",
   "execution_count": 8,
   "id": "60940358-df7e-4202-a82e-4918f2270115",
   "metadata": {},
   "outputs": [
    {
     "name": "stdout",
     "output_type": "stream",
     "text": [
      "['I', 'HAD', 'always', 'thought', 'Jack', 'Gisburn', 'rather', 'a', 'cheap', 'genius', '--', 'though', 'a', 'good', 'fellow', 'enough', '--', 'so', 'it', 'was', 'no', 'great', 'surprise', 'to', 'me', 'to', 'hear', 'that', ',', 'in']\n"
     ]
    }
   ],
   "source": [
    "preprocessed = re.split(r'([,.:;?_!()\\']|--|\\s)', raw_text)\n",
    "preprocessed=[item.strip() for item in preprocessed if item.strip()]\n",
    "print(preprocessed[:30])"
   ]
  },
  {
   "cell_type": "code",
   "execution_count": 9,
   "id": "14594c9f-d2b9-4abf-989c-7115ddd69e35",
   "metadata": {},
   "outputs": [
    {
     "name": "stdout",
     "output_type": "stream",
     "text": [
      "4606\n"
     ]
    }
   ],
   "source": [
    "print(len(preprocessed))"
   ]
  },
  {
   "cell_type": "code",
   "execution_count": null,
   "id": "e92de890-61f5-4e58-990a-1655b58bf4c2",
   "metadata": {},
   "outputs": [],
   "source": []
  }
 ],
 "metadata": {
  "kernelspec": {
   "display_name": "Python 3 (ipykernel)",
   "language": "python",
   "name": "python3"
  },
  "language_info": {
   "codemirror_mode": {
    "name": "ipython",
    "version": 3
   },
   "file_extension": ".py",
   "mimetype": "text/x-python",
   "name": "python",
   "nbconvert_exporter": "python",
   "pygments_lexer": "ipython3",
   "version": "3.10.5"
  },
  "widgets": {
   "application/vnd.jupyter.widget-state+json": {
    "state": {},
    "version_major": 2,
    "version_minor": 0
   }
  }
 },
 "nbformat": 4,
 "nbformat_minor": 5
}
